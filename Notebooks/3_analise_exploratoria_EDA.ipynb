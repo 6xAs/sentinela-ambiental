{
 "cells": [
  {
   "cell_type": "markdown",
   "metadata": {},
   "source": [
    "# Análise Exploratória de Dados Ambientais\n",
    "\n",
    "Este notebook realiza uma análise exploratória de dados ambientais, incluindo:\n",
    "- **Focos de queimadas**: Dados anuais de focos de queimadas fornecidos pelo INPE.\n",
    "- **Dados meteorológicos**: Informações climáticas de diferentes localidades.\n",
    "- **Dados geoespaciais**: Informações sobre áreas indígenas, estados e municípios.\n",
    "\n",
    "O objetivo é identificar padrões, tendências e possíveis correlações entre os dados para apoiar estudos ambientais e tomadas de decisão."
   ]
  },
  {
   "cell_type": "code",
   "execution_count": 2,
   "metadata": {},
   "outputs": [],
   "source": [
    "import pandas as pd\n",
    "import numpy as np\n",
    "import geopandas as gpd\n",
    "import matplotlib.pyplot as plt\n",
    "import seaborn as sns\n",
    "import folium\n",
    "import os"
   ]
  },
  {
   "cell_type": "markdown",
   "metadata": {},
   "source": [
    "## Carregamento dos dados anuais de queimadas"
   ]
  },
  {
   "cell_type": "code",
   "execution_count": null,
   "metadata": {},
   "outputs": [],
   "source": [
    "# Carregamento dos dados de focos de queimadas (exemplo para 2019)\n",
    "df_focos_2019 = pd.read_csv('../data/brutos/INPE_focos_queimadas_ano_sat_ref_ro_2019-2024/focos_br_ro_ref_2019.csv', sep=',')\n",
    "print(df_focos_2019.shape)\n",
    "print(df_focos_2019.info())\n",
    "df_focos_2019.head()"
   ]
  }
 ],
 "metadata": {
  "kernelspec": {
   "display_name": ".venv",
   "language": "python",
   "name": "python3"
  },
  "language_info": {
   "codemirror_mode": {
    "name": "ipython",
    "version": 3
   },
   "file_extension": ".py",
   "mimetype": "text/x-python",
   "name": "python",
   "nbconvert_exporter": "python",
   "pygments_lexer": "ipython3",
   "version": "3.12.4"
  }
 },
 "nbformat": 4,
 "nbformat_minor": 2
}
