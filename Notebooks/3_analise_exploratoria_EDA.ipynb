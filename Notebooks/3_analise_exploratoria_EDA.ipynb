{
 "cells": [
  {
   "cell_type": "markdown",
   "metadata": {},
   "source": [
    "# Análise Exploratória de Dados Ambientais\n",
    "\n",
    "Este notebook realiza uma análise exploratória de dados ambientais, incluindo:\n",
    "- **Focos de queimadas**: Dados anuais de focos de queimadas fornecidos pelo INPE.\n",
    "- **Dados meteorológicos**: Informações climáticas de diferentes localidades.\n",
    "- **Dados geoespaciais**: Informações sobre áreas indígenas, estados e municípios.\n",
    "\n",
    "O objetivo é identificar padrões, tendências e possíveis correlações entre os dados para apoiar estudos ambientais e tomadas de decisão."
   ]
  },
  {
   "cell_type": "code",
   "execution_count": 1,
   "metadata": {},
   "outputs": [],
   "source": [
    "import pandas as pd\n",
    "import numpy as np\n",
    "import geopandas as gpd\n",
    "import matplotlib.pyplot as plt\n",
    "import seaborn as sns\n",
    "import folium\n",
    "import os"
   ]
  },
  {
   "cell_type": "markdown",
   "metadata": {},
   "source": [
    "# --- **Carregamento de Todos os Dataframes Tratados** ---\n",
    "___"
   ]
  },
  {
   "cell_type": "code",
   "execution_count": 2,
   "metadata": {},
   "outputs": [],
   "source": [
    "# Carregando todos os dataframes tratados do projeto\n",
    "\n",
    "#_________________________________ FOCOS DE QUEIMADAS _____________________________________#\n",
    "\n",
    "# Dataframe Foco de Queimadas ano  2019\n",
    "df_foc_queimadas_2019       = pd.read_csv('../data/processados/tratados/focos_tratados-df_foc_queimadas_2019_20250406.csv', sep=',', header=0)\n",
    "# Dataframe Foco de Queimadas ano  2020\n",
    "df_foc_queimadas_2020       = pd.read_csv('../data/processados/tratados/focos_tratados-df_foc_queimadas_2020_20250406.csv', sep=',', header=0)\n",
    "# Dataframe Foco de Queimadas ano  2021\n",
    "df_foc_queimadas_2021       = pd.read_csv('../data/processados/tratados/focos_tratados-df_foc_queimadas_2021_20250406.csv', sep=',', header=0)\n",
    "# Dataframe Foco de Queimadas ano  2022\n",
    "df_foc_queimadas_2022       = pd.read_csv('../data/processados/tratados/focos_tratados-df_foc_queimadas_2022_20250406.csv', sep=',', header=0)\n",
    "# Dataframe Foco de Queimadas ano  2023\n",
    "df_foc_queimadas_2023       = pd.read_csv('../data/processados/tratados/focos_tratados-df_foc_queimadas_2023_20250406.csv', sep=',', header=0)\n",
    "#  Dataframe Foco de Queimadas ano  2024\n",
    "df_foc_queimadas_2024       = pd.read_csv('../data/processados/tratados/focos_tratados-df_foc_queimadas_2024_20250406.csv', sep=',', header=0)\n",
    "\n",
    "\n",
    "\n",
    "#_________________________________ FOCOS DE QUEIMADAS AMS (BIÔMA AMAZÔNICO) _____________________________________#\n",
    "\n",
    "# Dataframe Foco de Queimadas AMS ano  2023\n",
    "df_foc_queimadas_ams_2023 = pd.read_csv('../data/processados/tratados/focos_tratados-df_focus_ams_2023_brasil_ro_20250406.csv', sep=',', header=0)\n",
    "# Dataframe Foco de Queimadas AMS ano  2024\n",
    "df_foc_queimadas_ams_2024 = pd.read_csv('../data/processados/tratados/focos_tratados-df_focus_ams_2024_ro_20250406.csv', sep=',', header=0)\n",
    "\n",
    "\n",
    "#_________________________________ MAPEAMENTO MUNICÍPIOS RONDÔNIA  _____________________________________#\n",
    "\n",
    "# Dataframe Mapeamento Municípios de Rondônia\n",
    "df_map_muni_ro = pd.read_csv('../data/processados/tratados/df_map_municipios_ro_20250406.csv', sep=',', header=0)\n",
    "\n",
    "\n",
    "\n",
    "#_________________________________ ÁREAS INDÍGENAS - RONDÔNIA  _____________________________________#\n",
    "\n",
    "# Dataframe Área Indígena Rondônia ano  2023\n",
    "df_geo_area_indigena = pd.read_csv('../data/processados/tratados/df_geo_area_indigena_20250406.csv', sep=',', header=0)\n",
    "\n",
    "\n",
    "#_________________________________ DADOS METEOROLÓGICOS MUNICÍPIOS RONDÔNIA  _____________________________________#\n",
    "\n",
    "# Dataframe Dados Meteorológicos Municípios de Rondônia ano  2024\n",
    "df_dados_met_ariquemes_2024         = pd.read_csv('../data/processados/tratados/focos_tratados-df_dados_met_ariquemes_2024_20250406.csv', sep=',', header=0)\n",
    "df_dados_met_cacoal_2024            = pd.read_csv('../data/processados/tratados/focos_tratados-df_dados_met_cacoal_2024_20250406.csv', sep=',', header=0)\n",
    "df_dados_met_pvh_2024               = pd.read_csv('../data/processados/tratados/focos_tratados-df_dados_met_pvh_2024_20250406.csv', sep=',', header=0)\n",
    "df_dados_met_vilhena_2024           = pd.read_csv('../data/processados/tratados/focos_tratados-df_dados_met_vilhena_2024_20250406.csv', sep=',', header=0)\n",
    "\n",
    "\n",
    "#_________________________________ UNIDADES DE ATENDIMENTO CORPO DE BOMBEIROS RONDÔNIA  _____________________________________#\n",
    "\n",
    "# Dataframe Unidades de Atendimento Corpo de Bombeiros Rondônia ano 2024\n",
    "df_unid_local_bomb = pd.read_csv('../data/processados/tratados/focos_tratados-df_unid_local_bomb_20250406.csv', sep=',', header=0)\n"
   ]
  },
  {
   "cell_type": "markdown",
   "metadata": {},
   "source": [
    "# --- **Análise Temporal de Focos de Queimadas** ---\n",
    "___"
   ]
  },
  {
   "cell_type": "markdown",
   "metadata": {},
   "source": [
    "### Tendência Anual (2019–2024)"
   ]
  },
  {
   "cell_type": "markdown",
   "metadata": {},
   "source": [
    "### Conversão de Tipos"
   ]
  },
  {
   "cell_type": "code",
   "execution_count": 3,
   "metadata": {},
   "outputs": [],
   "source": [
    "df_foc_queimadas_2019['data'] = pd.to_datetime(df_foc_queimadas_2019['data_pas'], errors='coerce')\n",
    "df_foc_queimadas_2019.drop(columns=['data_pas'], inplace=True)\n"
   ]
  },
  {
   "cell_type": "markdown",
   "metadata": {},
   "source": [
    "### Checar valores únicos por coluna"
   ]
  },
  {
   "cell_type": "code",
   "execution_count": 4,
   "metadata": {},
   "outputs": [
    {
     "name": "stdout",
     "output_type": "stream",
     "text": [
      "Valores únicos em pais:\n",
      "pais\n",
      "Brasil    11230\n",
      "Name: count, dtype: int64\n",
      "--------------------------------------------------\n",
      "Valores únicos em estado:\n",
      "estado\n",
      "RONDÔNIA    11230\n",
      "Name: count, dtype: int64\n",
      "--------------------------------------------------\n",
      "Valores únicos em municipio:\n",
      "municipio\n",
      "PORTO VELHO                  3585\n",
      "NOVA MAMORÉ                  1230\n",
      "CUJUBIM                       896\n",
      "CANDEIAS DO JAMARI            866\n",
      "MACHADINHO D'OESTE            616\n",
      "BURITIS                       369\n",
      "VILHENA                       323\n",
      "ALTO PARAÍSO                  314\n",
      "GUAJARÁ-MIRIM                 266\n",
      "PIMENTA BUENO                 226\n",
      "ARIQUEMES                     213\n",
      "SERINGUEIRAS                  197\n",
      "SÃO FRANCISCO DO GUAPORÉ      177\n",
      "ALTA FLORESTA D'OESTE         167\n",
      "COSTA MARQUES                 132\n",
      "CHUPINGUAIA                   121\n",
      "SÃO MIGUEL DO GUAPORÉ         113\n",
      "MONTE NEGRO                   108\n",
      "RIO CRESPO                    100\n",
      "OURO PRETO DO OESTE            99\n",
      "CAMPO NOVO DE RONDÔNIA         96\n",
      "VALE DO ANARI                  96\n",
      "ITAPUÃ DO OESTE                95\n",
      "PIMENTEIRAS DO OESTE           85\n",
      "NOVA UNIÃO                     72\n",
      "ALTO ALEGRE DOS PARECIS        68\n",
      "JI-PARANÁ                      66\n",
      "MIRANTE DA SERRA               53\n",
      "GOVERNADOR JORGE TEIXEIRA      52\n",
      "CORUMBIARA                     47\n",
      "CACAULÂNDIA                    44\n",
      "ESPIGÃO D'OESTE                38\n",
      "VALE DO PARAÍSO                37\n",
      "CACOAL                         35\n",
      "PARECIS                        33\n",
      "THEOBROMA                      31\n",
      "CABIXI                         29\n",
      "JARU                           24\n",
      "CASTANHEIRAS                   18\n",
      "CEREJEIRAS                     14\n",
      "ALVORADA D'OESTE               12\n",
      "NOVA BRASILÂNDIA D'OESTE       12\n",
      "TEIXEIRÓPOLIS                  10\n",
      "PRESIDENTE MÉDICI              10\n",
      "MINISTRO ANDREAZZA              7\n",
      "PRIMAVERA DE RONDÔNIA           7\n",
      "ROLIM DE MOURA                  6\n",
      "SANTA LUZIA D'OESTE             5\n",
      "URUPÁ                           4\n",
      "NOVO HORIZONTE DO OESTE         3\n",
      "COLORADO DO OESTE               2\n",
      "SÃO FELIPE D'OESTE              1\n",
      "Name: count, dtype: int64\n",
      "--------------------------------------------------\n",
      "Valores únicos em bioma:\n",
      "bioma\n",
      "Amazônia    11229\n",
      "Cerrado         1\n",
      "Name: count, dtype: int64\n",
      "--------------------------------------------------\n"
     ]
    }
   ],
   "source": [
    "for col in ['pais', 'estado', 'municipio', 'bioma']:\n",
    "    print(f\"Valores únicos em {col}:\")\n",
    "    print(df_foc_queimadas_2019[col].value_counts())\n",
    "    print('-'*50)\n"
   ]
  },
  {
   "cell_type": "markdown",
   "metadata": {},
   "source": [
    "### Verificar geolocalização\n",
    "Verifica se há coordenadas fora da área do estado (por exemplo, pontos fora de Rondônia)."
   ]
  },
  {
   "cell_type": "code",
   "execution_count": 5,
   "metadata": {},
   "outputs": [
    {
     "data": {
      "text/html": [
       "<div>\n",
       "<style scoped>\n",
       "    .dataframe tbody tr th:only-of-type {\n",
       "        vertical-align: middle;\n",
       "    }\n",
       "\n",
       "    .dataframe tbody tr th {\n",
       "        vertical-align: top;\n",
       "    }\n",
       "\n",
       "    .dataframe thead th {\n",
       "        text-align: right;\n",
       "    }\n",
       "</style>\n",
       "<table border=\"1\" class=\"dataframe\">\n",
       "  <thead>\n",
       "    <tr style=\"text-align: right;\">\n",
       "      <th></th>\n",
       "      <th>id_bdq</th>\n",
       "      <th>foco_id</th>\n",
       "      <th>lat</th>\n",
       "      <th>lon</th>\n",
       "      <th>pais</th>\n",
       "      <th>estado</th>\n",
       "      <th>municipio</th>\n",
       "      <th>bioma</th>\n",
       "      <th>data</th>\n",
       "    </tr>\n",
       "  </thead>\n",
       "  <tbody>\n",
       "    <tr>\n",
       "      <th>124</th>\n",
       "      <td>1329808489</td>\n",
       "      <td>39a11e0d-edf0-3db8-b14f-d5cce16fbaab</td>\n",
       "      <td>-9.755</td>\n",
       "      <td>-66.633</td>\n",
       "      <td>Brasil</td>\n",
       "      <td>RONDÔNIA</td>\n",
       "      <td>PORTO VELHO</td>\n",
       "      <td>Amazônia</td>\n",
       "      <td>2019-08-17 18:35:00</td>\n",
       "    </tr>\n",
       "    <tr>\n",
       "      <th>336</th>\n",
       "      <td>1120336281</td>\n",
       "      <td>08192de3-f6d8-3074-b5a3-89831ddf9a9d</td>\n",
       "      <td>-9.754</td>\n",
       "      <td>-66.592</td>\n",
       "      <td>Brasil</td>\n",
       "      <td>RONDÔNIA</td>\n",
       "      <td>PORTO VELHO</td>\n",
       "      <td>Amazônia</td>\n",
       "      <td>2019-06-18 18:10:00</td>\n",
       "    </tr>\n",
       "    <tr>\n",
       "      <th>337</th>\n",
       "      <td>1120336280</td>\n",
       "      <td>6dc01a0f-3d80-3c61-b26c-3766c258afbe</td>\n",
       "      <td>-9.756</td>\n",
       "      <td>-66.601</td>\n",
       "      <td>Brasil</td>\n",
       "      <td>RONDÔNIA</td>\n",
       "      <td>PORTO VELHO</td>\n",
       "      <td>Amazônia</td>\n",
       "      <td>2019-06-18 18:10:00</td>\n",
       "    </tr>\n",
       "    <tr>\n",
       "      <th>695</th>\n",
       "      <td>1229303240</td>\n",
       "      <td>6f0f27ae-8c8e-350c-804f-cf8efc41dda7</td>\n",
       "      <td>-9.532</td>\n",
       "      <td>-66.375</td>\n",
       "      <td>Brasil</td>\n",
       "      <td>RONDÔNIA</td>\n",
       "      <td>PORTO VELHO</td>\n",
       "      <td>Amazônia</td>\n",
       "      <td>2019-07-24 17:45:00</td>\n",
       "    </tr>\n",
       "    <tr>\n",
       "      <th>1620</th>\n",
       "      <td>1292366943</td>\n",
       "      <td>27b2510c-fc8e-31de-8266-21233c427a41</td>\n",
       "      <td>-9.577</td>\n",
       "      <td>-66.416</td>\n",
       "      <td>Brasil</td>\n",
       "      <td>RONDÔNIA</td>\n",
       "      <td>PORTO VELHO</td>\n",
       "      <td>Amazônia</td>\n",
       "      <td>2019-08-09 17:45:00</td>\n",
       "    </tr>\n",
       "    <tr>\n",
       "      <th>...</th>\n",
       "      <td>...</td>\n",
       "      <td>...</td>\n",
       "      <td>...</td>\n",
       "      <td>...</td>\n",
       "      <td>...</td>\n",
       "      <td>...</td>\n",
       "      <td>...</td>\n",
       "      <td>...</td>\n",
       "      <td>...</td>\n",
       "    </tr>\n",
       "    <tr>\n",
       "      <th>10788</th>\n",
       "      <td>1408147567</td>\n",
       "      <td>e4c74cd5-9435-384b-a23e-f37fe132c4f0</td>\n",
       "      <td>-9.564</td>\n",
       "      <td>-66.220</td>\n",
       "      <td>Brasil</td>\n",
       "      <td>RONDÔNIA</td>\n",
       "      <td>PORTO VELHO</td>\n",
       "      <td>Amazônia</td>\n",
       "      <td>2019-11-04 17:50:00</td>\n",
       "    </tr>\n",
       "    <tr>\n",
       "      <th>10819</th>\n",
       "      <td>1408147211</td>\n",
       "      <td>6a350ac8-f576-3489-ade2-5c23f87227a0</td>\n",
       "      <td>-9.687</td>\n",
       "      <td>-66.145</td>\n",
       "      <td>Brasil</td>\n",
       "      <td>RONDÔNIA</td>\n",
       "      <td>PORTO VELHO</td>\n",
       "      <td>Amazônia</td>\n",
       "      <td>2019-11-04 17:50:00</td>\n",
       "    </tr>\n",
       "    <tr>\n",
       "      <th>10849</th>\n",
       "      <td>1408146980</td>\n",
       "      <td>d5add5ec-fb79-348f-944b-cc0c92e182ba</td>\n",
       "      <td>-9.563</td>\n",
       "      <td>-66.209</td>\n",
       "      <td>Brasil</td>\n",
       "      <td>RONDÔNIA</td>\n",
       "      <td>PORTO VELHO</td>\n",
       "      <td>Amazônia</td>\n",
       "      <td>2019-11-04 17:50:00</td>\n",
       "    </tr>\n",
       "    <tr>\n",
       "      <th>10980</th>\n",
       "      <td>1408702392</td>\n",
       "      <td>cd32c27b-ea1e-38af-9cba-f4e3757c0175</td>\n",
       "      <td>-9.758</td>\n",
       "      <td>-66.616</td>\n",
       "      <td>Brasil</td>\n",
       "      <td>RONDÔNIA</td>\n",
       "      <td>PORTO VELHO</td>\n",
       "      <td>Amazônia</td>\n",
       "      <td>2019-11-11 18:00:00</td>\n",
       "    </tr>\n",
       "    <tr>\n",
       "      <th>11037</th>\n",
       "      <td>1409594074</td>\n",
       "      <td>351aa277-c663-3e69-820a-19ccb0bf89c0</td>\n",
       "      <td>-9.769</td>\n",
       "      <td>-66.237</td>\n",
       "      <td>Brasil</td>\n",
       "      <td>RONDÔNIA</td>\n",
       "      <td>PORTO VELHO</td>\n",
       "      <td>Amazônia</td>\n",
       "      <td>2019-11-27 18:00:00</td>\n",
       "    </tr>\n",
       "  </tbody>\n",
       "</table>\n",
       "<p>90 rows × 9 columns</p>\n",
       "</div>"
      ],
      "text/plain": [
       "           id_bdq                               foco_id    lat     lon  \\\n",
       "124    1329808489  39a11e0d-edf0-3db8-b14f-d5cce16fbaab -9.755 -66.633   \n",
       "336    1120336281  08192de3-f6d8-3074-b5a3-89831ddf9a9d -9.754 -66.592   \n",
       "337    1120336280  6dc01a0f-3d80-3c61-b26c-3766c258afbe -9.756 -66.601   \n",
       "695    1229303240  6f0f27ae-8c8e-350c-804f-cf8efc41dda7 -9.532 -66.375   \n",
       "1620   1292366943  27b2510c-fc8e-31de-8266-21233c427a41 -9.577 -66.416   \n",
       "...           ...                                   ...    ...     ...   \n",
       "10788  1408147567  e4c74cd5-9435-384b-a23e-f37fe132c4f0 -9.564 -66.220   \n",
       "10819  1408147211  6a350ac8-f576-3489-ade2-5c23f87227a0 -9.687 -66.145   \n",
       "10849  1408146980  d5add5ec-fb79-348f-944b-cc0c92e182ba -9.563 -66.209   \n",
       "10980  1408702392  cd32c27b-ea1e-38af-9cba-f4e3757c0175 -9.758 -66.616   \n",
       "11037  1409594074  351aa277-c663-3e69-820a-19ccb0bf89c0 -9.769 -66.237   \n",
       "\n",
       "         pais    estado    municipio     bioma                data  \n",
       "124    Brasil  RONDÔNIA  PORTO VELHO  Amazônia 2019-08-17 18:35:00  \n",
       "336    Brasil  RONDÔNIA  PORTO VELHO  Amazônia 2019-06-18 18:10:00  \n",
       "337    Brasil  RONDÔNIA  PORTO VELHO  Amazônia 2019-06-18 18:10:00  \n",
       "695    Brasil  RONDÔNIA  PORTO VELHO  Amazônia 2019-07-24 17:45:00  \n",
       "1620   Brasil  RONDÔNIA  PORTO VELHO  Amazônia 2019-08-09 17:45:00  \n",
       "...       ...       ...          ...       ...                 ...  \n",
       "10788  Brasil  RONDÔNIA  PORTO VELHO  Amazônia 2019-11-04 17:50:00  \n",
       "10819  Brasil  RONDÔNIA  PORTO VELHO  Amazônia 2019-11-04 17:50:00  \n",
       "10849  Brasil  RONDÔNIA  PORTO VELHO  Amazônia 2019-11-04 17:50:00  \n",
       "10980  Brasil  RONDÔNIA  PORTO VELHO  Amazônia 2019-11-11 18:00:00  \n",
       "11037  Brasil  RONDÔNIA  PORTO VELHO  Amazônia 2019-11-27 18:00:00  \n",
       "\n",
       "[90 rows x 9 columns]"
      ]
     },
     "execution_count": 5,
     "metadata": {},
     "output_type": "execute_result"
    }
   ],
   "source": [
    "# Exemplo para Rondônia: lat entre -14 e -7 / lon entre -66 e -59\n",
    "df_foc_queimadas_2019.query('lat < -14 or lat > -7 or lon < -66 or lon > -59')\n"
   ]
  },
  {
   "cell_type": "markdown",
   "metadata": {},
   "source": [
    "## **Gráficos EDA - Focos por Mês**\n"
   ]
  },
  {
   "cell_type": "code",
   "execution_count": 6,
   "metadata": {},
   "outputs": [
    {
     "data": {
      "image/png": "[encoded data removed]",
      "text/plain": [
       "<Figure size 640x480 with 1 Axes>"
      ]
     },
     "metadata": {},
     "output_type": "display_data"
    }
   ],
   "source": [
    "df_foc_queimadas_2019['mes'] = df_foc_queimadas_2019['data'].dt.month\n",
    "df_foc_queimadas_2019['ano'] = df_foc_queimadas_2019['data'].dt.year\n",
    "\n",
    "sns.countplot(data=df_foc_queimadas_2019, x='mes', order=range(1, 13))\n",
    "plt.title('Distribuição Mensal dos Focos de Queimada')\n",
    "plt.xlabel('Mês')\n",
    "plt.ylabel('Número de Focos')\n",
    "plt.show()\n"
   ]
  },
  {
   "cell_type": "markdown",
   "metadata": {},
   "source": [
    "### Top municípios com mais focos de poluição"
   ]
  },
  {
   "cell_type": "code",
   "execution_count": 7,
   "metadata": {},
   "outputs": [
    {
     "data": {
      "image/png": "[encoded data removed]",
      "text/plain": [
       "<Figure size 640x480 with 1 Axes>"
      ]
     },
     "metadata": {},
     "output_type": "display_data"
    }
   ],
   "source": [
    "top_mun = df_foc_queimadas_2019['municipio'].value_counts().head(10)\n",
    "\n",
    "sns.barplot(x=top_mun.values, y=top_mun.index)\n",
    "plt.title('Top 10 Municípios com mais focos')\n",
    "plt.xlabel('Qtd. Focos')\n",
    "plt.ylabel('Município')\n",
    "plt.show()\n"
   ]
  },
  {
   "cell_type": "markdown",
   "metadata": {},
   "source": [
    "### Distribuição espacial (Folium básico)"
   ]
  },
  {
   "cell_type": "code",
   "execution_count": 8,
   "metadata": {},
   "outputs": [],
   "source": [
    "import folium\n",
    "\n",
    "m = folium.Map(location=[-10.9, -63.1], zoom_start=6)\n",
    "for i, row in df_foc_queimadas_2019.head(500).iterrows():  # evita travar com milhares de pontos\n",
    "    folium.CircleMarker(location=[row['lat'], row['lon']],\n",
    "                        radius=2,\n",
    "                        color='red',\n",
    "                        fill=True).add_to(m)\n",
    "\n",
    "m.save('../scripts/html/mapa_focos_2024.html')\n"
   ]
  },
  {
   "cell_type": "markdown",
   "metadata": {},
   "source": [
    "### 🌟 Exemplo Estendido: Com Tooltip e Popup"
   ]
  },
  {
   "cell_type": "code",
   "execution_count": 9,
   "metadata": {},
   "outputs": [],
   "source": [
    "import folium\n",
    "\n",
    "m = folium.Map(location=[-10.9, -63.1], zoom_start=8)\n",
    "for i, row in df_foc_queimadas_2019.head(500).iterrows():\n",
    "    folium.CircleMarker(\n",
    "        location=[row['lat'], row['lon']],\n",
    "        radius=3,\n",
    "        color='red',\n",
    "        fill=True,\n",
    "        fill_opacity=0.7,\n",
    "        popup=f\"{row['municipio']} - {row['data'].strftime('%d/%m/%Y')}\",\n",
    "        tooltip=row['municipio']\n",
    "    ).add_to(m)\n",
    "\n",
    "\n",
    "m.save('../scripts/html/mapa_focos_tooltip_pop_2024.html')\n"
   ]
  },
  {
   "cell_type": "markdown",
   "metadata": {},
   "source": [
    "### 🔥📈 Plot: Evolução Anual dos focos de Queimadas em Rondônia (2019-2024)"
   ]
  },
  {
   "cell_type": "code",
   "execution_count": 10,
   "metadata": {},
   "outputs": [
    {
     "data": {
      "image/png": "[encoded data removed]",
      "text/plain": [
       "<Figure size 1200x600 with 1 Axes>"
      ]
     },
     "metadata": {},
     "output_type": "display_data"
    }
   ],
   "source": [
    "import pandas as pd\n",
    "import folium\n",
    "import matplotlib.pyplot as plt\n",
    "\n",
    "# Concatena todos os dataframes\n",
    "df_focos_total = pd.concat([\n",
    "    df_foc_queimadas_2019,\n",
    "    df_foc_queimadas_2020,\n",
    "    df_foc_queimadas_2021,\n",
    "    df_foc_queimadas_2022,\n",
    "    df_foc_queimadas_2023,\n",
    "    df_foc_queimadas_2024\n",
    "])\n",
    "\n",
    "# Corrige o tipo da coluna 'data_pas' para datetime\n",
    "df_focos_total['data_pas'] = pd.to_datetime(df_focos_total['data_pas'], errors='coerce')\n",
    "\n",
    "# Remove possíveis linhas com datas nulas\n",
    "df_focos_total = df_focos_total.dropna(subset=['data_pas'])\n",
    "\n",
    "# Agrega por ano\n",
    "focos_por_ano = df_focos_total.groupby(df_focos_total['data_pas'].dt.year).size().reset_index(name='total')\n",
    "\n",
    "# 📈 Plotagem de linha\n",
    "plt.figure(figsize=(12, 6))\n",
    "plt.plot(focos_por_ano['data_pas'], focos_por_ano['total'], marker='o', linestyle='--')\n",
    "plt.title('Evolução Anual de Focos de Queimadas em Rondônia (2019–2024)')\n",
    "plt.xlabel('Ano')\n",
    "plt.ylabel('Total de Focos')\n",
    "plt.grid(True)\n",
    "plt.show()\n"
   ]
  },
  {
   "cell_type": "markdown",
   "metadata": {},
   "source": [
    "### 🌍📈 Mapa Folium com todos os dados de 2019 a 2024"
   ]
  },
  {
   "cell_type": "code",
   "execution_count": 11,
   "metadata": {},
   "outputs": [
    {
     "name": "stdout",
     "output_type": "stream",
     "text": [
      "Mapa salvo com sucesso em: c:\\__DEV\\Python\\Streamlit\\sentinela-ambiental\\scripts\\html\\mapa_focos_tooltip_pop_2024.html\n"
     ]
    }
   ],
   "source": [
    "# Mapa base centralizado em Rondônia\n",
    "m_total = folium.Map(location=[-10.9, -63.1], zoom_start=6)\n",
    "\n",
    "# Adiciona até 1000 focos para evitar travamento\n",
    "for i, row in df_focos_total.head(1000).iterrows():\n",
    "    folium.CircleMarker(\n",
    "        location=[row['lat'], row['lon']],\n",
    "        radius=2,\n",
    "        color='red',\n",
    "        fill=True,\n",
    "        fill_opacity=0.6,\n",
    "        tooltip=f\"{row['municipio']} | {row['data_pas'].date()} | {row['bioma']}\"\n",
    "    ).add_to(m_total)\n",
    "\n",
    "# Exibe mensagem de conclusão\n",
    "if m_total:\n",
    "    # Salva o HTML\n",
    "    m_total.save('../scripts/html/mapa_focos_total_2019_2024.html')  \n",
    "    print(f\"Mapa salvo com sucesso em: {os.path.abspath('../scripts/html/mapa_focos_tooltip_pop_2024.html')}\")          \n",
    "else:\n",
    "    print(\"Ocorreu um erro ao salvar o mapa.\")\n"
   ]
  }
 ],
 "metadata": {
  "kernelspec": {
   "display_name": ".venv",
   "language": "python",
   "name": "python3"
  },
  "language_info": {
   "codemirror_mode": {
    "name": "ipython",
    "version": 3
   },
   "file_extension": ".py",
   "mimetype": "text/x-python",
   "name": "python",
   "nbconvert_exporter": "python",
   "pygments_lexer": "ipython3",
   "version": "3.12.4"
  }
 },
 "nbformat": 4,
 "nbformat_minor": 2
}
